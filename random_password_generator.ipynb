{
 "cells": [
  {
   "cell_type": "raw",
   "id": "cd2886f7",
   "metadata": {},
   "source": [
    "    Build a program that intakes some words from the user and then generates a random password using those words"
   ]
  },
  {
   "cell_type": "code",
   "execution_count": 7,
   "id": "33f55ada",
   "metadata": {
    "scrolled": true
   },
   "outputs": [
    {
     "name": "stdout",
     "output_type": "stream",
     "text": [
      "******************Welcome to Random password Generator!!*********************\n",
      "Please enter the length of password required: 8\n",
      "Please enter your birth location: Kolhapur\n",
      "Please enter your Mother's Maiden name: Kamal\n",
      "Please enter month you are born in: September\n",
      "Special characters to choose from: !,@,#,$,%,&,*\n",
      "Please enter the special char from above: @\n",
      "Please enter 2 digits you like the most:24\n",
      "***************************************************************************\n",
      "Random password generated is:  Lmlle@24\n"
     ]
    }
   ],
   "source": [
    "import random\n",
    "import string\n",
    "import secrets\n",
    "import sys\n",
    "\n",
    "# length of the password, input asked is place born, mother's maiden name, month born in, random char from set of special symbols,\n",
    "# 2 digit number like the most\n",
    "\n",
    "# Policy:\n",
    "# 1 uppercase letter\n",
    "# password generated should be of given input length\n",
    "# Consists of letters from the user provided answers \n",
    "# must have at least 1 special char, \n",
    "# must have at least 2 numerical digits\n",
    "\n",
    "print('******************Welcome to Random password Generator!!*********************')\n",
    "# check if length of password to generate is valid\n",
    "len_pass = int(input('Please enter the length of password required: '))\n",
    "if len_pass < 5:\n",
    "    sys.exit('Invalid password length provided. Please provide password length that is greater than 5.')\n",
    "\n",
    "    \n",
    "birth_loc = input('Please enter your birth location: ')\n",
    "mother_maiden_nm = input(\"Please enter your Mother's Maiden name: \")\n",
    "month_born = input('Please enter month you are born in: ')\n",
    "print('Special characters to choose from: !,@,#,$,%,&,*')\n",
    "spec_char = input('Please enter the special char from above: ')\n",
    "digits = int(input('Please enter 2 digits you like the most:'))\n",
    "\n",
    "if birth_loc.isalpha() and mother_maiden_nm.isalpha() and month_born.isalpha() and isinstance(digits,int):\n",
    "    \n",
    "    # concatenated the input strings\n",
    "    string = mother_maiden_nm + birth_loc + month_born \n",
    "\n",
    "    # generate the random password using random.choice\n",
    "    random_pass_part1 = ''.join((random.choice(string)) for x in range(len_pass-3))\n",
    "\n",
    "    # generate the random password using random.choice for digits\n",
    "    random_pass_part2 = ''.join((random.choice(str(digits))) for y in range(2))\n",
    "\n",
    "    # concatenate both the mandatory\n",
    "    final_pass=random_pass_part1 + spec_char + random_pass_part2\n",
    "    random_pass = final_pass.capitalize()\n",
    "\n",
    "    print('***************************************************************************')\n",
    "    print('Random password generated is: ',random_pass)\n",
    "else:\n",
    "    sys.exit(\"Invalid input provided, please check and try again\")\n",
    "    "
   ]
  },
  {
   "cell_type": "code",
   "execution_count": null,
   "id": "39c3e88a",
   "metadata": {},
   "outputs": [],
   "source": []
  }
 ],
 "metadata": {
  "kernelspec": {
   "display_name": "Python 3 (ipykernel)",
   "language": "python",
   "name": "python3"
  },
  "language_info": {
   "codemirror_mode": {
    "name": "ipython",
    "version": 3
   },
   "file_extension": ".py",
   "mimetype": "text/x-python",
   "name": "python",
   "nbconvert_exporter": "python",
   "pygments_lexer": "ipython3",
   "version": "3.9.12"
  }
 },
 "nbformat": 4,
 "nbformat_minor": 5
}
